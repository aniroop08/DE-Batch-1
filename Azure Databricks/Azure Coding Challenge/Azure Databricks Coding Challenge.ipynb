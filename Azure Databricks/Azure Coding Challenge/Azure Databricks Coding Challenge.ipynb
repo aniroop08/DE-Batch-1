{
 "cells": [
  {
   "cell_type": "code",
   "execution_count": 0,
   "metadata": {
    "application/vnd.databricks.v1+cell": {
     "cellMetadata": {
      "byteLimit": 2048000,
      "rowLimit": 10000
     },
     "inputWidgets": {},
     "nuid": "a4140365-95dc-4cd5-8234-f305f8d15d4d",
     "showTitle": false,
     "tableResultSettingsMap": {},
     "title": ""
    }
   },
   "outputs": [
    {
     "output_type": "stream",
     "name": "stdout",
     "output_type": "stream",
     "text": [
      "+---------+--------------------+---------------+------------------+--------------------+-----------------+-----+-------+--------+-----------+-------------------+--------------------+---------------------+------------+\n|   ads_id|           prop_name|completion_year|      monthly_rent|            location|    property_type|rooms|parking|bathroom|       size|          furnished|          facilities|additional_facilities|      region|\n+---------+--------------------+---------------+------------------+--------------------+-----------------+-----+-------+--------+-----------+-------------------+--------------------+---------------------+------------+\n|100323185|The Hipster @ Tam...|         2022.0|RM 4 200 per month|Kuala Lumpur - Ta...|      Condominium|    5|    2.0|     6.0|1842 sq.ft.|    Fully Furnished|Minimart, Gymnasi...| Air-Cond, Cooking...|Kuala Lumpur|\n|100203973|        Segar Courts|           NULL|RM 2 300 per month|Kuala Lumpur - Ch...|      Condominium|    3|    1.0|     2.0|1170 sq.ft.|Partially Furnished|Playground, Parki...| Air-Cond, Cooking...|Kuala Lumpur|\n|100323128|Pangsapuri Terata...|           NULL|RM 1 000 per month|Kuala Lumpur - Ta...|        Apartment|    3|   NULL|     2.0| 650 sq.ft.|    Fully Furnished|Minimart, Jogging...|                 NULL|Kuala Lumpur|\n|100191767|Sentul Point Suit...|         2020.0|RM 1 700 per month|Kuala Lumpur - Se...|        Apartment|    2|    1.0|     2.0| 743 sq.ft.|Partially Furnished|Parking, Playgrou...| Cooking Allowed, ...|Kuala Lumpur|\n| 97022692|     Arte Mont Kiara|           NULL|RM 1 299 per month|Kuala Lumpur - Mo...|Service Residence|    1|    1.0|     1.0| 494 sq.ft.|      Not Furnished|Parking, Security...|             Air-Cond|Kuala Lumpur|\n+---------+--------------------+---------------+------------------+--------------------+-----------------+-----+-------+--------+-----------+-------------------+--------------------+---------------------+------------+\nonly showing top 5 rows\n\n"
     ]
    }
   ],
   "source": [
    "# Load Spark and access Databricks dataset\n",
    "from pyspark.sql import SparkSession\n",
    "\n",
    "# Initialize SparkSession (usually auto-initialized in Databricks)\n",
    "spark = SparkSession.builder.getOrCreate()\n",
    "\n",
    "# Load sample data\n",
    "filepath = \"/FileStore/tables/mudah_apartment_kl_selangor__1_-1.csv\"\n",
    "df = spark.read.csv(filepath, header=True, inferSchema=True)\n",
    "\n",
    "# Show the first few rows\n",
    "df.show(5)\n"
   ]
  },
  {
   "cell_type": "code",
   "execution_count": 0,
   "metadata": {
    "application/vnd.databricks.v1+cell": {
     "cellMetadata": {
      "byteLimit": 2048000,
      "rowLimit": 10000
     },
     "inputWidgets": {},
     "nuid": "226fb845-3b0e-494c-9f38-017dc3a12baf",
     "showTitle": false,
     "tableResultSettingsMap": {},
     "title": ""
    }
   },
   "outputs": [
    {
     "output_type": "stream",
     "name": "stdout",
     "output_type": "stream",
     "text": [
      "root\n |-- ads_id: integer (nullable = true)\n |-- prop_name: string (nullable = true)\n |-- completion_year: double (nullable = true)\n |-- monthly_rent: string (nullable = true)\n |-- location: string (nullable = true)\n |-- property_type: string (nullable = true)\n |-- rooms: string (nullable = true)\n |-- parking: double (nullable = true)\n |-- bathroom: double (nullable = true)\n |-- size: string (nullable = true)\n |-- furnished: string (nullable = true)\n |-- facilities: string (nullable = true)\n |-- additional_facilities: string (nullable = true)\n |-- region: string (nullable = true)\n\n"
     ]
    }
   ],
   "source": [
    "# Check the structure and data types of the DataFrame\n",
    "df.printSchema()\n"
   ]
  },
  {
   "cell_type": "code",
   "execution_count": 0,
   "metadata": {
    "application/vnd.databricks.v1+cell": {
     "cellMetadata": {
      "byteLimit": 2048000,
      "rowLimit": 10000
     },
     "inputWidgets": {},
     "nuid": "e54a4673-7479-4b83-b4eb-46dae8304ffa",
     "showTitle": false,
     "tableResultSettingsMap": {},
     "title": ""
    }
   },
   "outputs": [
    {
     "output_type": "stream",
     "name": "stdout",
     "output_type": "stream",
     "text": [
      "+-------+------------------+--------------------+-----------------+------------------+--------------------+---------------+------------------+------------------+------------------+---------------+-------------------+--------------------+---------------------+------------+\n|summary|            ads_id|           prop_name|  completion_year|      monthly_rent|            location|  property_type|             rooms|           parking|          bathroom|           size|          furnished|          facilities|additional_facilities|      region|\n+-------+------------------+--------------------+-----------------+------------------+--------------------+---------------+------------------+------------------+------------------+---------------+-------------------+--------------------+---------------------+------------+\n|  count|             19991|               19043|            10806|             19989|               19991|          19991|             19985|             14289|             19985|          19991|              19986|               17782|                14043|       19991|\n|   mean|9.97067053108899E7|                NULL|2014.822320932815|              NULL|                NULL|           NULL| 2.680278236501026|1.4168241304499964|1.8917187890918188|           NULL|               NULL|                NULL|                 NULL|        NULL|\n| stddev|3482574.7035407154|                NULL|6.735354696429903|              NULL|                NULL|           NULL|0.8078379940634384|0.5673677630463505|0.5562656902904315|           NULL|               NULL|                NULL|                 NULL|        NULL|\n|    min|          16525511|          1 Harmonis|           1977.0|RM 1 000 per month|Kuala Lumpur - Am...|      Apartment|                 1|               1.0|               1.0|       1 sq.ft.|    Fully Furnished|       Barbeque area| , Air-Cond, Cooki...|Kuala Lumpur|\n|    max|         100854617|wangsa maju secti...|           2025.0|  RM 999 per month|Selangor - Ulu Klang|Townhouse Condo|      More than 10|              10.0|               8.0|99999999 sq.ft.|Partially Furnished|Tennis Court, Swi...| Washing Machine, ...|    Selangor|\n+-------+------------------+--------------------+-----------------+------------------+--------------------+---------------+------------------+------------------+------------------+---------------+-------------------+--------------------+---------------------+------------+\n\n"
     ]
    }
   ],
   "source": [
    "# Show summary statistics for numerical columns\n",
    "df.describe().show()\n"
   ]
  },
  {
   "cell_type": "code",
   "execution_count": 0,
   "metadata": {
    "application/vnd.databricks.v1+cell": {
     "cellMetadata": {
      "byteLimit": 2048000,
      "rowLimit": 10000
     },
     "inputWidgets": {},
     "nuid": "dcd7c7f8-3f66-4394-b644-0db13e4dd8e8",
     "showTitle": false,
     "tableResultSettingsMap": {},
     "title": ""
    }
   },
   "outputs": [
    {
     "output_type": "stream",
     "name": "stdout",
     "output_type": "stream",
     "text": [
      "Total rows in the dataset: 19991\n"
     ]
    }
   ],
   "source": [
    "# Count the number of rows in the dataset\n",
    "row_count = df.count()\n",
    "print(f\"Total rows in the dataset: {row_count}\")\n"
   ]
  },
  {
   "cell_type": "code",
   "execution_count": 0,
   "metadata": {
    "application/vnd.databricks.v1+cell": {
     "cellMetadata": {
      "byteLimit": 2048000,
      "rowLimit": 10000
     },
     "inputWidgets": {},
     "nuid": "5906a40a-f516-402c-936c-0230e1029102",
     "showTitle": false,
     "tableResultSettingsMap": {},
     "title": ""
    }
   },
   "outputs": [
    {
     "output_type": "stream",
     "name": "stdout",
     "output_type": "stream",
     "text": [
      "+--------------------+-----+\n|            location|count|\n+--------------------+-----+\n|  Kuala Lumpur - OUG|   63|\n|Kuala Lumpur - Ji...|    9|\n|Selangor - Kota D...|  172|\n|Selangor - Puncak...|   63|\n|Selangor - Bandar...|   32|\n|Selangor - Glenmarie|   19|\n|Selangor - Pulau ...|    1|\n|Kuala Lumpur - So...|   60|\n|Kuala Lumpur - Ch...|    1|\n|Selangor - Petali...|  612|\n+--------------------+-----+\nonly showing top 10 rows\n\n"
     ]
    }
   ],
   "source": [
    "# Group data by 'location' and count the number of listings\n",
    "location_count_df = df.groupBy(\"location\").count()\n",
    "\n",
    "# Display the result for visualization\n",
    "location_count_df.show(10)\n"
   ]
  },
  {
   "cell_type": "code",
   "execution_count": 0,
   "metadata": {
    "application/vnd.databricks.v1+cell": {
     "cellMetadata": {
      "byteLimit": 2048000,
      "rowLimit": 10000
     },
     "inputWidgets": {},
     "nuid": "5be75b30-eca3-40e6-b3cc-5347503477f3",
     "showTitle": false,
     "tableResultSettingsMap": {},
     "title": ""
    }
   },
   "outputs": [
    {
     "output_type": "display_data",
     "data": {
      "text/html": [
       "<style scoped>\n",
       "  .table-result-container {\n",
       "    max-height: 300px;\n",
       "    overflow: auto;\n",
       "  }\n",
       "  table, th, td {\n",
       "    border: 1px solid black;\n",
       "    border-collapse: collapse;\n",
       "  }\n",
       "  th, td {\n",
       "    padding: 5px;\n",
       "  }\n",
       "  th {\n",
       "    text-align: left;\n",
       "  }\n",
       "</style><div class='table-result-container'><table class='table-result'><thead style='background-color: white'><tr><th>location</th><th>count</th></tr></thead><tbody><tr><td>Kuala Lumpur - Cheras</td><td>1623</td></tr><tr><td>Selangor - Kajang</td><td>1022</td></tr><tr><td>Kuala Lumpur - Setapak</td><td>973</td></tr><tr><td>Selangor - Shah Alam</td><td>971</td></tr><tr><td>Selangor - Cyberjaya</td><td>879</td></tr></tbody></table></div>"
      ]
     },
     "metadata": {
      "application/vnd.databricks.v1+output": {
       "addedWidgets": {},
       "aggData": [],
       "aggError": "",
       "aggOverflow": false,
       "aggSchema": [],
       "aggSeriesLimitReached": false,
       "aggType": "",
       "arguments": {},
       "columnCustomDisplayInfos": {},
       "data": [
        [
         "Kuala Lumpur - Cheras",
         1623
        ],
        [
         "Selangor - Kajang",
         1022
        ],
        [
         "Kuala Lumpur - Setapak",
         973
        ],
        [
         "Selangor - Shah Alam",
         971
        ],
        [
         "Selangor - Cyberjaya",
         879
        ]
       ],
       "datasetInfos": [],
       "dbfsResultPath": null,
       "isJsonSchema": true,
       "metadata": {},
       "overflow": false,
       "plotOptions": {
        "customPlotOptions": {},
        "displayType": "table",
        "pivotAggregation": null,
        "pivotColumns": null,
        "xColumns": null,
        "yColumns": null
       },
       "removedWidgets": [],
       "schema": [
        {
         "metadata": "{}",
         "name": "location",
         "type": "\"string\""
        },
        {
         "metadata": "{}",
         "name": "count",
         "type": "\"long\""
        }
       ],
       "type": "table"
      }
     },
     "output_type": "display_data"
    }
   ],
   "source": [
    "# Sort by count in descending order\n",
    "sorted_df = location_count_df.orderBy(\"count\", ascending=False)\n",
    "display(sorted_df.limit(5))"
   ]
  },
  {
   "cell_type": "code",
   "execution_count": 0,
   "metadata": {
    "application/vnd.databricks.v1+cell": {
     "cellMetadata": {
      "byteLimit": 2048000,
      "rowLimit": 10000
     },
     "inputWidgets": {},
     "nuid": "de764cc5-eae5-4b31-94a6-ba625e3179a4",
     "showTitle": false,
     "tableResultSettingsMap": {},
     "title": ""
    }
   },
   "outputs": [
    {
     "output_type": "display_data",
     "data": {
      "text/html": [
       "<style scoped>\n",
       "  .table-result-container {\n",
       "    max-height: 300px;\n",
       "    overflow: auto;\n",
       "  }\n",
       "  table, th, td {\n",
       "    border: 1px solid black;\n",
       "    border-collapse: collapse;\n",
       "  }\n",
       "  th, td {\n",
       "    padding: 5px;\n",
       "  }\n",
       "  th {\n",
       "    text-align: left;\n",
       "  }\n",
       "</style><div class='table-result-container'><table class='table-result'><thead style='background-color: white'><tr><th>location</th><th>count</th></tr></thead><tbody><tr><td>Kuala Lumpur - OUG</td><td>63</td></tr><tr><td>Kuala Lumpur - Jinjang</td><td>9</td></tr><tr><td>Selangor - Kota Damansara</td><td>172</td></tr><tr><td>Selangor - Puncak Alam</td><td>63</td></tr><tr><td>Selangor - Bandar Kinrara</td><td>32</td></tr><tr><td>Selangor - Glenmarie</td><td>19</td></tr><tr><td>Selangor - Pulau Indah (Pulau Lumut)</td><td>1</td></tr><tr><td>Kuala Lumpur - Solaris Dutamas</td><td>60</td></tr><tr><td>Kuala Lumpur - Chan Sow Lin</td><td>1</td></tr><tr><td>Selangor - Petaling Jaya</td><td>612</td></tr></tbody></table></div>"
      ]
     },
     "metadata": {
      "application/vnd.databricks.v1+output": {
       "addedWidgets": {},
       "aggData": [],
       "aggError": "",
       "aggOverflow": false,
       "aggSchema": [],
       "aggSeriesLimitReached": false,
       "aggType": "",
       "arguments": {},
       "columnCustomDisplayInfos": {},
       "data": [
        [
         "Kuala Lumpur - OUG",
         63
        ],
        [
         "Kuala Lumpur - Jinjang",
         9
        ],
        [
         "Selangor - Kota Damansara",
         172
        ],
        [
         "Selangor - Puncak Alam",
         63
        ],
        [
         "Selangor - Bandar Kinrara",
         32
        ],
        [
         "Selangor - Glenmarie",
         19
        ],
        [
         "Selangor - Pulau Indah (Pulau Lumut)",
         1
        ],
        [
         "Kuala Lumpur - Solaris Dutamas",
         60
        ],
        [
         "Kuala Lumpur - Chan Sow Lin",
         1
        ],
        [
         "Selangor - Petaling Jaya",
         612
        ]
       ],
       "datasetInfos": [],
       "dbfsResultPath": null,
       "isJsonSchema": true,
       "metadata": {},
       "overflow": false,
       "plotOptions": {
        "customPlotOptions": {},
        "displayType": "table",
        "pivotAggregation": null,
        "pivotColumns": null,
        "xColumns": null,
        "yColumns": null
       },
       "removedWidgets": [],
       "schema": [
        {
         "metadata": "{}",
         "name": "location",
         "type": "\"string\""
        },
        {
         "metadata": "{}",
         "name": "count",
         "type": "\"long\""
        }
       ],
       "type": "table"
      }
     },
     "output_type": "display_data"
    },
    {
     "output_type": "display_data",
     "data": {
      "text/plain": [
       "Databricks visualization. Run in Databricks to view."
      ]
     },
     "metadata": {
      "application/vnd.databricks.v1.subcommand+json": {
       "baseErrorDetails": null,
       "bindings": {},
       "collapsed": false,
       "command": "%python\n__backend_agg_display_orig = display\n__backend_agg_dfs = []\ndef __backend_agg_display_new(df):\n    __backend_agg_df_modules = [\"pandas.core.frame\", \"databricks.koalas.frame\", \"pyspark.sql.dataframe\", \"pyspark.pandas.frame\", \"pyspark.sql.connect.dataframe\"]\n    if (type(df).__module__ in __backend_agg_df_modules and type(df).__name__ == 'DataFrame') or isinstance(df, list):\n        __backend_agg_dfs.append(df)\n\ndisplay = __backend_agg_display_new\n\ndef __backend_agg_user_code_fn():\n    import base64\n    exec(base64.standard_b64decode(\"IyBHcm91cCBkYXRhIGJ5ICdsb2NhdGlvbicgYW5kIGNvdW50IHRoZSBudW1iZXIgb2YgbGlzdGluZ3MKbG9jYXRpb25fY291bnRfZGYgPSBkZi5ncm91cEJ5KCJsb2NhdGlvbiIpLmNvdW50KCkKCiMgRGlzcGxheSB0aGUgcmVzdWx0IGZvciB2aXN1YWxpemF0aW9uCmRpc3BsYXkobG9jYXRpb25fY291bnRfZGYubGltaXQoMTApKQo=\").decode())\n\ntry:\n    # run user code\n    __backend_agg_user_code_fn()\n\n    #reset display function\n    display = __backend_agg_display_orig\n\n    if len(__backend_agg_dfs) > 0:\n        # create a temp view\n        if type(__backend_agg_dfs[0]).__module__ == \"databricks.koalas.frame\":\n            # koalas dataframe\n            __backend_agg_dfs[0].to_spark().createOrReplaceTempView(\"DatabricksView9af716d\")\n        elif type(__backend_agg_dfs[0]).__module__ == \"pandas.core.frame\" or isinstance(__backend_agg_dfs[0], list):\n            # pandas dataframe\n            spark.createDataFrame(__backend_agg_dfs[0]).createOrReplaceTempView(\"DatabricksView9af716d\")\n        else:\n            __backend_agg_dfs[0].createOrReplaceTempView(\"DatabricksView9af716d\")\n        #run backend agg\n        display(spark.sql(\"\"\"WITH q AS (select * from DatabricksView9af716d) SELECT `location`,SUM(`count`) `column_1e7989468` FROM q GROUP BY `location`\"\"\"))\n    else:\n        displayHTML(\"dataframe no longer exists. If you're using dataframe.display(), use display(dataframe) instead.\")\n\n\nfinally:\n    spark.sql(\"drop view if exists DatabricksView9af716d\")\n    display = __backend_agg_display_orig\n    del __backend_agg_display_new\n    del __backend_agg_display_orig\n    del __backend_agg_dfs\n    del __backend_agg_user_code_fn\n\n",
       "commandTitle": "Visualization 1",
       "commandType": "auto",
       "commandVersion": 0,
       "commentThread": [],
       "commentsVisible": false,
       "contentSha256Hex": null,
       "customPlotOptions": {
        "redashChart": [
         {
          "key": "type",
          "value": "CHART"
         },
         {
          "key": "options",
          "value": {
           "alignYAxesAtZero": true,
           "coefficient": 1,
           "columnConfigurationMap": {
            "x": {
             "column": "location",
             "id": "column_1e7989467"
            },
            "y": [
             {
              "column": "count",
              "id": "column_1e7989468",
              "transform": "SUM"
             }
            ]
           },
           "dateTimeFormat": "DD/MM/YYYY HH:mm",
           "direction": {
            "type": "counterclockwise"
           },
           "error_y": {
            "type": "data",
            "visible": true
           },
           "globalSeriesType": "column",
           "legend": {
            "traceorder": "normal"
           },
           "missingValuesAsZero": true,
           "numberFormat": "0,0.[00000]",
           "percentFormat": "0[.]00%",
           "series": {
            "error_y": {
             "type": "data",
             "visible": true
            },
            "stacking": null
           },
           "seriesOptions": {
            "column_1e7989468": {
             "name": "count",
             "yAxis": 0
            }
           },
           "showDataLabels": false,
           "sizemode": "diameter",
           "sortX": true,
           "sortY": true,
           "swappedAxes": true,
           "textFormat": "",
           "useAggregationsUi": true,
           "valuesOptions": {},
           "version": 2,
           "xAxis": {
            "labels": {
             "enabled": true
            },
            "type": "-"
           },
           "yAxis": [
            {
             "type": "-"
            },
            {
             "opposite": true,
             "type": "-"
            }
           ]
          }
         }
        ]
       },
       "datasetPreviewNameToCmdIdMap": {},
       "diffDeletes": [],
       "diffInserts": [],
       "displayType": "redashChart",
       "error": null,
       "errorDetails": null,
       "errorSummary": null,
       "errorTraceType": null,
       "finishTime": 0,
       "globalVars": {},
       "guid": "",
       "height": "auto",
       "hideCommandCode": false,
       "hideCommandResult": false,
       "iPythonMetadata": null,
       "inputWidgets": {},
       "isLockedInExamMode": false,
       "latestUser": "a user",
       "latestUserId": null,
       "listResultMetadata": null,
       "metadata": {},
       "nuid": "4406bc38-4fc1-4c14-a69b-c516aee48d32",
       "origId": 0,
       "parentHierarchy": [],
       "pivotAggregation": null,
       "pivotColumns": null,
       "position": 8.0,
       "resultDbfsErrorMessage": null,
       "resultDbfsStatus": "INLINED_IN_TREE",
       "results": null,
       "showCommandTitle": false,
       "startTime": 0,
       "state": "input",
       "streamStates": {},
       "subcommandOptions": {
        "queryPlan": {
         "groups": [
          {
           "column": "location",
           "type": "column"
          }
         ],
         "selects": [
          {
           "column": "location",
           "type": "column"
          },
          {
           "alias": "column_1e7989468",
           "args": [
            {
             "column": "count",
             "type": "column"
            }
           ],
           "function": "SUM",
           "type": "function"
          }
         ]
        }
       },
       "submitTime": 0,
       "subtype": "tableResultSubCmd.visualization",
       "tableResultIndex": 0,
       "tableResultSettingsMap": {},
       "useConsistentColors": false,
       "version": "CommandV1",
       "width": "auto",
       "workflows": [],
       "xColumns": null,
       "yColumns": null
      }
     },
     "output_type": "display_data"
    }
   ],
   "source": [
    "# Group data by 'location' and count the number of listings\n",
    "location_count_df = df.groupBy(\"location\").count()\n",
    "\n",
    "# Display the result for visualization\n",
    "display(location_count_df.limit(10))\n"
   ]
  },
  {
   "cell_type": "code",
   "execution_count": 0,
   "metadata": {
    "application/vnd.databricks.v1+cell": {
     "cellMetadata": {
      "byteLimit": 2048000,
      "rowLimit": 10000
     },
     "inputWidgets": {},
     "nuid": "f6ecb0a0-f77e-41b0-85d5-2fb6e7d11fbf",
     "showTitle": false,
     "tableResultSettingsMap": {},
     "title": ""
    }
   },
   "outputs": [
    {
     "output_type": "stream",
     "name": "stdout",
     "output_type": "stream",
     "text": [
      "+------------------+-----+\n|      monthly_rent|count|\n+------------------+-----+\n|RM 1 500 per month| 1401|\n|RM 1 200 per month| 1373|\n|RM 1 300 per month| 1209|\n|RM 1 600 per month| 1067|\n|RM 1 400 per month| 1024|\n|RM 1 000 per month|  986|\n|RM 1 800 per month|  899|\n|RM 1 100 per month|  828|\n|RM 1 700 per month|  755|\n|RM 2 000 per month|  728|\n+------------------+-----+\nonly showing top 10 rows\n\n"
     ]
    },
    {
     "output_type": "display_data",
     "data": {
      "text/html": [
       "<style scoped>\n",
       "  .table-result-container {\n",
       "    max-height: 300px;\n",
       "    overflow: auto;\n",
       "  }\n",
       "  table, th, td {\n",
       "    border: 1px solid black;\n",
       "    border-collapse: collapse;\n",
       "  }\n",
       "  th, td {\n",
       "    padding: 5px;\n",
       "  }\n",
       "  th {\n",
       "    text-align: left;\n",
       "  }\n",
       "</style><div class='table-result-container'><table class='table-result'><thead style='background-color: white'><tr><th>monthly_rent</th><th>count</th></tr></thead><tbody><tr><td>RM 1 500 per month</td><td>1401</td></tr><tr><td>RM 1 200 per month</td><td>1373</td></tr><tr><td>RM 1 300 per month</td><td>1209</td></tr><tr><td>RM 1 600 per month</td><td>1067</td></tr><tr><td>RM 1 400 per month</td><td>1024</td></tr><tr><td>RM 1 000 per month</td><td>986</td></tr><tr><td>RM 1 800 per month</td><td>899</td></tr><tr><td>RM 1 100 per month</td><td>828</td></tr><tr><td>RM 1 700 per month</td><td>755</td></tr><tr><td>RM 2 000 per month</td><td>728</td></tr><tr><td>RM 900 per month</td><td>604</td></tr><tr><td>RM 2 500 per month</td><td>456</td></tr><tr><td>RM 850 per month</td><td>441</td></tr><tr><td>RM 800 per month</td><td>433</td></tr><tr><td>RM 2 200 per month</td><td>427</td></tr><tr><td>RM 950 per month</td><td>381</td></tr><tr><td>RM 700 per month</td><td>350</td></tr><tr><td>RM 1 900 per month</td><td>343</td></tr><tr><td>RM 2 300 per month</td><td>330</td></tr><tr><td>RM 750 per month</td><td>299</td></tr><tr><td>RM 1 350 per month</td><td>293</td></tr><tr><td>RM 1 250 per month</td><td>276</td></tr><tr><td>RM 2 100 per month</td><td>257</td></tr><tr><td>RM 2 400 per month</td><td>223</td></tr><tr><td>RM 2 800 per month</td><td>208</td></tr><tr><td>RM 2 600 per month</td><td>204</td></tr><tr><td>RM 3 000 per month</td><td>203</td></tr><tr><td>RM 600 per month</td><td>173</td></tr><tr><td>RM 1 650 per month</td><td>165</td></tr><tr><td>RM 1 450 per month</td><td>164</td></tr><tr><td>RM 1 150 per month</td><td>159</td></tr><tr><td>RM 3 500 per month</td><td>156</td></tr><tr><td>RM 650 per month</td><td>155</td></tr><tr><td>RM 1 550 per month</td><td>144</td></tr><tr><td>RM 1 050 per month</td><td>106</td></tr><tr><td>RM 2 700 per month</td><td>100</td></tr><tr><td>RM 1 750 per month</td><td>97</td></tr><tr><td>RM 4 000 per month</td><td>97</td></tr><tr><td>RM 550 per month</td><td>84</td></tr><tr><td>RM 3 300 per month</td><td>84</td></tr><tr><td>RM 1 850 per month</td><td>83</td></tr><tr><td>RM 3 200 per month</td><td>81</td></tr><tr><td>RM 500 per month</td><td>76</td></tr><tr><td>RM 999 per month</td><td>73</td></tr><tr><td>RM 1 499 per month</td><td>71</td></tr><tr><td>RM 1 199 per month</td><td>67</td></tr><tr><td>RM 1 950 per month</td><td>56</td></tr><tr><td>RM 1 399 per month</td><td>53</td></tr><tr><td>RM 1 799 per month</td><td>53</td></tr><tr><td>RM 4 500 per month</td><td>49</td></tr><tr><td>RM 3 800 per month</td><td>47</td></tr><tr><td>RM 1 299 per month</td><td>46</td></tr><tr><td>RM 2 900 per month</td><td>45</td></tr><tr><td>RM 1 999 per month</td><td>43</td></tr><tr><td>RM 1 099 per month</td><td>41</td></tr><tr><td>RM 3 700 per month</td><td>41</td></tr><tr><td>RM 3 400 per month</td><td>38</td></tr><tr><td>RM 3 600 per month</td><td>37</td></tr><tr><td>RM 1 599 per month</td><td>36</td></tr><tr><td>RM 899 per month</td><td>27</td></tr><tr><td>RM 5 000 per month</td><td>26</td></tr><tr><td>RM 1 899 per month</td><td>25</td></tr><tr><td>RM 3 100 per month</td><td>24</td></tr><tr><td>RM 450 per month</td><td>22</td></tr><tr><td>RM 2 450 per month</td><td>22</td></tr><tr><td>RM 1 699 per month</td><td>21</td></tr><tr><td>RM 400 per month</td><td>21</td></tr><tr><td>RM 2 350 per month</td><td>20</td></tr><tr><td>RM 780 per month</td><td>19</td></tr><tr><td>RM 4 300 per month</td><td>18</td></tr><tr><td>RM 5 500 per month</td><td>18</td></tr><tr><td>RM 680 per month</td><td>17</td></tr><tr><td>RM 4 200 per month</td><td>17</td></tr><tr><td>RM 5 800 per month</td><td>16</td></tr><tr><td>RM 2 499 per month</td><td>15</td></tr><tr><td>RM 799 per month</td><td>15</td></tr><tr><td>RM 4 800 per month</td><td>15</td></tr><tr><td>RM 699 per month</td><td>15</td></tr><tr><td>RM 2 650 per month</td><td>13</td></tr><tr><td>RM 4 600 per month</td><td>13</td></tr><tr><td>RM 980 per month</td><td>13</td></tr><tr><td>RM 2 250 per month</td><td>13</td></tr><tr><td>RM 2 299 per month</td><td>12</td></tr><tr><td>RM 3 900 per month</td><td>12</td></tr><tr><td>RM 880 per month</td><td>12</td></tr><tr><td>RM 2 150 per month</td><td>12</td></tr><tr><td>RM 2 999 per month</td><td>12</td></tr><tr><td>RM 830 per month</td><td>11</td></tr><tr><td>RM 2 480 per month</td><td>10</td></tr><tr><td>RM 7 000 per month</td><td>10</td></tr><tr><td>RM 1 280 per month</td><td>10</td></tr><tr><td>RM 1 680 per month</td><td>10</td></tr><tr><td>RM 2 750 per month</td><td>10</td></tr><tr><td>RM 2 050 per month</td><td>9</td></tr><tr><td>RM 2 099 per month</td><td>9</td></tr><tr><td>RM 6 500 per month</td><td>9</td></tr><tr><td>RM 150 per month</td><td>9</td></tr><tr><td>RM 4 700 per month</td><td>9</td></tr><tr><td>RM 601 per month</td><td>9</td></tr><tr><td>RM 2 199 per month</td><td>8</td></tr><tr><td>RM 7 500 per month</td><td>8</td></tr><tr><td>RM 100 per month</td><td>8</td></tr><tr><td>RM 1 988 per month</td><td>8</td></tr><tr><td>RM 1 498 per month</td><td>7</td></tr><tr><td>RM 350 per month</td><td>7</td></tr><tr><td>RM 580 per month</td><td>7</td></tr><tr><td>RM 2 399 per month</td><td>7</td></tr><tr><td>RM 602 per month</td><td>7</td></tr><tr><td>RM 4 400 per month</td><td>7</td></tr><tr><td>RM 200 per month</td><td>7</td></tr><tr><td>RM 300 per month</td><td>7</td></tr><tr><td>RM 2 550 per month</td><td>7</td></tr><tr><td>RM 1 198 per month</td><td>7</td></tr><tr><td>RM 1 380 per month</td><td>7</td></tr><tr><td>RM 603 per month</td><td>7</td></tr><tr><td>RM 1 205 per month</td><td>6</td></tr><tr><td>RM 5 200 per month</td><td>6</td></tr><tr><td>RM 760 per month</td><td>6</td></tr><tr><td>RM 1 998 per month</td><td>6</td></tr><tr><td>RM 10 000 per month</td><td>6</td></tr><tr><td>RM 1 202 per month</td><td>6</td></tr><tr><td>RM 620 per month</td><td>6</td></tr><tr><td>RM 1 580 per month</td><td>6</td></tr><tr><td>RM 6 000 per month</td><td>6</td></tr><tr><td>RM 1 488 per month</td><td>6</td></tr><tr><td>RM 1 780 per month</td><td>6</td></tr><tr><td>RM 630 per month</td><td>6</td></tr><tr><td>RM 8 500 per month</td><td>5</td></tr><tr><td>RM 2 950 per month</td><td>5</td></tr><tr><td>RM 1 090 per month</td><td>5</td></tr><tr><td>RM 1 798 per month</td><td>5</td></tr><tr><td>RM 604 per month</td><td>5</td></tr><tr><td>RM 1 203 per month</td><td>5</td></tr><tr><td>RM 1 388 per month</td><td>5</td></tr><tr><td>RM 16 000 per month</td><td>5</td></tr><tr><td>RM 12 000 per month</td><td>5</td></tr><tr><td>RM 605 per month</td><td>5</td></tr><tr><td>RM 798 per month</td><td>5</td></tr><tr><td>RM 1 398 per month</td><td>5</td></tr><tr><td>RM 860 per month</td><td>5</td></tr><tr><td>RM 1 688 per month</td><td>5</td></tr><tr><td>RM 120 per month</td><td>5</td></tr><tr><td>RM 8 000 per month</td><td>5</td></tr><tr><td>RM 1 080 per month</td><td>4</td></tr><tr><td>RM 4 900 per month</td><td>4</td></tr><tr><td>RM 3 499 per month</td><td>4</td></tr><tr><td>RM 1 180 per month</td><td>4</td></tr><tr><td>RM 770 per month</td><td>4</td></tr><tr><td>RM 250 per month</td><td>4</td></tr><tr><td>RM 730 per month</td><td>4</td></tr><tr><td>RM 870 per month</td><td>4</td></tr><tr><td>RM 1 298 per month</td><td>4</td></tr><tr><td>RM 910 per month</td><td>4</td></tr><tr><td>RM 920 per month</td><td>4</td></tr><tr><td>RM 1 201 per month</td><td>4</td></tr><tr><td>RM 1 880 per month</td><td>4</td></tr><tr><td>RM 15 000 per month</td><td>4</td></tr><tr><td>RM 250 000 per month</td><td>4</td></tr><tr><td>RM 698 per month</td><td>4</td></tr><tr><td>RM 530 per month</td><td>4</td></tr><tr><td>RM 1 980 per month</td><td>3</td></tr><tr><td>RM 1 204 per month</td><td>3</td></tr><tr><td>RM 3 450 per month</td><td>3</td></tr><tr><td>RM 2 380 per month</td><td>3</td></tr><tr><td>RM 2 080 per month</td><td>3</td></tr><tr><td>RM 2 850 per month</td><td>3</td></tr><tr><td>RM 720 per month</td><td>3</td></tr><tr><td>RM 9 000 per month</td><td>3</td></tr><tr><td>RM 998 per month</td><td>3</td></tr><tr><td>RM 2 899 per month</td><td>3</td></tr><tr><td>RM 2 888 per month</td><td>3</td></tr><tr><td>RM 648 per month</td><td>3</td></tr><tr><td>RM 1 373 per month</td><td>3</td></tr><tr><td>RM 1 390 per month</td><td>3</td></tr><tr><td>RM 1 480 per month</td><td>3</td></tr><tr><td>RM 9 500 per month</td><td>3</td></tr><tr><td>RM 380 per month</td><td>3</td></tr><tr><td>RM 1 588 per month</td><td>3</td></tr><tr><td>RM 1 990 per month</td><td>3</td></tr><tr><td>RM 948 per month</td><td>3</td></tr><tr><td>RM 1 098 per month</td><td>3</td></tr><tr><td>RM 2 699 per month</td><td>3</td></tr><tr><td>RM 280 per month</td><td>3</td></tr><tr><td>RM 580 000 per month</td><td>3</td></tr><tr><td>RM 660 per month</td><td>3</td></tr><tr><td>RM 2 998 per month</td><td>3</td></tr><tr><td>RM 460 per month</td><td>3</td></tr><tr><td>RM 820 per month</td><td>3</td></tr><tr><td>RM 1 698 per month</td><td>3</td></tr><tr><td>RM 930 per month</td><td>2</td></tr><tr><td>RM 1 949 per month</td><td>2</td></tr><tr><td>RM 890 per month</td><td>2</td></tr><tr><td>RM 1 548 per month</td><td>2</td></tr><tr><td>RM 4 250 per month</td><td>2</td></tr><tr><td>null</td><td>2</td></tr><tr><td>RM 1 049 per month</td><td>2</td></tr><tr><td>RM 370 per month</td><td>2</td></tr><tr><td>RM 11 000 per month</td><td>2</td></tr><tr><td>RM 480 per month</td><td>2</td></tr><tr><td>RM 1 490 per month</td><td>2</td></tr><tr><td>RM 3 099 per month</td><td>2</td></tr><tr><td>RM 13 000 per month</td><td>2</td></tr><tr><td>RM 690 per month</td><td>2</td></tr><tr><td>RM 740 per month</td><td>2</td></tr><tr><td>RM 1 190 per month</td><td>2</td></tr><tr><td>RM 1 288 per month</td><td>2</td></tr><tr><td>RM 701 per month</td><td>2</td></tr><tr><td>RM 270 per month</td><td>2</td></tr><tr><td>RM 7 900 per month</td><td>2</td></tr><tr><td>RM 4 876 per month</td><td>2</td></tr><tr><td>RM 1 030 per month</td><td>2</td></tr><tr><td>RM 810 per month</td><td>2</td></tr><tr><td>RM 1 230 per month</td><td>2</td></tr><tr><td>RM 80 per month</td><td>2</td></tr><tr><td>RM 790 per month</td><td>2</td></tr><tr><td>RM 345 000 per month</td><td>2</td></tr><tr><td>RM 849 per month</td><td>2</td></tr><tr><td>RM 499 per month</td><td>2</td></tr><tr><td>RM 4 888 per month</td><td>2</td></tr><tr><td>RM 16 800 per month</td><td>2</td></tr><tr><td>RM 2 490 per month</td><td>2</td></tr><tr><td>RM 1 690 per month</td><td>2</td></tr><tr><td>RM 2 280 per month</td><td>2</td></tr><tr><td>RM 898 per month</td><td>2</td></tr><tr><td>RM 5 300 per month</td><td>2</td></tr><tr><td>RM 2 799 per month</td><td>2</td></tr><tr><td>RM 6 900 per month</td><td>2</td></tr><tr><td>RM 710 per month</td><td>2</td></tr><tr><td>RM 1 730 per month</td><td>2</td></tr><tr><td>RM 11 500 per month</td><td>2</td></tr><tr><td>RM 13 500 per month</td><td>2</td></tr><tr><td>RM 12 500 per month</td><td>2</td></tr><tr><td>RM 1 348 per month</td><td>2</td></tr><tr><td>RM 3 350 per month</td><td>2</td></tr><tr><td>RM 7 800 per month</td><td>2</td></tr><tr><td>RM 2 599 per month</td><td>2</td></tr><tr><td>RM 260 per month</td><td>2</td></tr><tr><td>RM 5 499 per month</td><td>2</td></tr><tr><td>RM 882 per month</td><td>2</td></tr><tr><td>RM 1 598 per month</td><td>2</td></tr><tr><td>RM 780 000 per month</td><td>1</td></tr><tr><td>RM 4 848 per month</td><td>1</td></tr><tr><td>RM 1 449 per month</td><td>1</td></tr><tr><td>RM 4 399 per month</td><td>1</td></tr><tr><td>RM 1 712 per month</td><td>1</td></tr><tr><td>RM 200 000 per month</td><td>1</td></tr><tr><td>RM 10 300 per month</td><td>1</td></tr><tr><td>RM 1 590 per month</td><td>1</td></tr><tr><td>RM 1 140 per month</td><td>1</td></tr><tr><td>RM 801 per month</td><td>1</td></tr><tr><td>RM 3 999 per month</td><td>1</td></tr><tr><td>RM 4 999 per month</td><td>1</td></tr><tr><td>RM 430 per month</td><td>1</td></tr><tr><td>RM 1 249 per month</td><td>1</td></tr><tr><td>RM 4 899 per month</td><td>1</td></tr><tr><td>RM 90 per month</td><td>1</td></tr><tr><td>RM 3 950 per month</td><td>1</td></tr><tr><td>RM 145 per month</td><td>1</td></tr><tr><td>RM 190 000 per month</td><td>1</td></tr><tr><td>RM 915 per month</td><td>1</td></tr><tr><td>RM 2 790 per month</td><td>1</td></tr><tr><td>RM 418 000 per month</td><td>1</td></tr><tr><td>RM 105 000 per month</td><td>1</td></tr><tr><td>RM 949 per month</td><td>1</td></tr><tr><td>RM 3 399 per month</td><td>1</td></tr><tr><td>RM 2 988 per month</td><td>1</td></tr><tr><td>RM 5 950 per month</td><td>1</td></tr><tr><td>RM 645 per month</td><td>1</td></tr><tr><td>RM 3 899 per month</td><td>1</td></tr><tr><td>RM 3 599 per month</td><td>1</td></tr><tr><td>RM 180 per month</td><td>1</td></tr><tr><td>RM 6 800 per month</td><td>1</td></tr><tr><td>RM 3 990 per month</td><td>1</td></tr><tr><td>RM 3 650 per month</td><td>1</td></tr><tr><td>RM 1 155 per month</td><td>1</td></tr><tr><td>RM 290 000 per month</td><td>1</td></tr><tr><td>RM 2 798 per month</td><td>1</td></tr><tr><td>RM 1 270 per month</td><td>1</td></tr><tr><td>RM 705 per month</td><td>1</td></tr><tr><td>RM 127 898 per month</td><td>1</td></tr><tr><td>RM 670 per month</td><td>1</td></tr><tr><td>RM 695 per month</td><td>1</td></tr><tr><td>RM 1 502 per month</td><td>1</td></tr><tr><td>RM 190 per month</td><td>1</td></tr><tr><td>RM 45 000 per month</td><td>1</td></tr><tr><td>RM 10 500 per month</td><td>1</td></tr><tr><td>RM 1 693 per month</td><td>1</td></tr><tr><td>RM 290 per month</td><td>1</td></tr><tr><td>RM 125 000 per month</td><td>1</td></tr><tr><td>RM 1 948 per month</td><td>1</td></tr><tr><td>RM 3 380 per month</td><td>1</td></tr><tr><td>RM 996 per month</td><td>1</td></tr><tr><td>RM 310 000 per month</td><td>1</td></tr><tr><td>RM 749 per month</td><td>1</td></tr><tr><td>RM 960 per month</td><td>1</td></tr><tr><td>RM 3 120 per month</td><td>1</td></tr><tr><td>RM 288 000 per month</td><td>1</td></tr><tr><td>RM 1 501 per month</td><td>1</td></tr><tr><td>RM 3 299 per month</td><td>1</td></tr><tr><td>RM 746 per month</td><td>1</td></tr><tr><td>RM 18 500 per month</td><td>1</td></tr><tr><td>RM 8 999 per month</td><td>1</td></tr><tr><td>RM 349 898 per month</td><td>1</td></tr><tr><td>RM 1 340 per month</td><td>1</td></tr><tr><td>RM 330 000 per month</td><td>1</td></tr><tr><td>RM 1 045 per month</td><td>1</td></tr><tr><td>RM 1 330 per month</td><td>1</td></tr><tr><td>RM 329 999 per month</td><td>1</td></tr><tr><td>RM 549 per month</td><td>1</td></tr><tr><td>RM 110 per month</td><td>1</td></tr><tr><td>RM 1 248 per month</td><td>1</td></tr><tr><td>RM 3 088 per month</td><td>1</td></tr><tr><td>RM 1 360 per month</td><td>1</td></tr><tr><td>RM 824 per month</td><td>1</td></tr><tr><td>RM 875 per month</td><td>1</td></tr><tr><td>RM 419 000 per month</td><td>1</td></tr><tr><td>RM 3 198 per month</td><td>1</td></tr><tr><td>RM 1 720 per month</td><td>1</td></tr><tr><td>RM 17 000 per month</td><td>1</td></tr><tr><td>RM 1 189 per month</td><td>1</td></tr><tr><td>RM 1 188 per month</td><td>1</td></tr><tr><td>RM 249 900 per month</td><td>1</td></tr><tr><td>RM 995 per month</td><td>1</td></tr><tr><td>RM 3 550 per month</td><td>1</td></tr><tr><td>RM 2 400 000 per month</td><td>1</td></tr><tr><td>RM 1 810 per month</td><td>1</td></tr><tr><td>RM 1 788 per month</td><td>1</td></tr><tr><td>RM 4 350 per month</td><td>1</td></tr><tr><td>RM 3 799 per month</td><td>1</td></tr><tr><td>RM 3 490 per month</td><td>1</td></tr><tr><td>RM 550 000 per month</td><td>1</td></tr><tr><td>RM 3 150 per month</td><td>1</td></tr><tr><td>RM 260 000 per month</td><td>1</td></tr><tr><td>RM 85 per month</td><td>1</td></tr><tr><td>RM 1 210 per month</td><td>1</td></tr><tr><td>RM 1 111 per month</td><td>1</td></tr><tr><td>RM 1 109 per month</td><td>1</td></tr><tr><td>RM 5 900 per month</td><td>1</td></tr><tr><td>RM 4 650 per month</td><td>1</td></tr><tr><td>RM 9 600 per month</td><td>1</td></tr><tr><td>RM 1 260 per month</td><td>1</td></tr><tr><td>RM 1 630 per month</td><td>1</td></tr><tr><td>RM 390 per month</td><td>1</td></tr><tr><td>RM 5 600 per month</td><td>1</td></tr><tr><td>RM 1 790 per month</td><td>1</td></tr><tr><td>RM 1 048 per month</td><td>1</td></tr><tr><td>RM 748 per month</td><td>1</td></tr><tr><td>RM 450 000 per month</td><td>1</td></tr><tr><td>RM 1 430 per month</td><td>1</td></tr><tr><td>RM 903 per month</td><td>1</td></tr><tr><td>RM 9 800 per month</td><td>1</td></tr><tr><td>RM 904 per month</td><td>1</td></tr><tr><td>RM 723 per month</td><td>1</td></tr><tr><td>RM 658 per month</td><td>1</td></tr><tr><td>RM 885 per month</td><td>1</td></tr><tr><td>RM 649 per month</td><td>1</td></tr><tr><td>RM 1 220 per month</td><td>1</td></tr><tr><td>RM 1 520 per month</td><td>1</td></tr><tr><td>RM 884 per month</td><td>1</td></tr><tr><td>RM 70 per month</td><td>1</td></tr><tr><td>RM 970 per month</td><td>1</td></tr><tr><td>RM 4 100 per month</td><td>1</td></tr><tr><td>RM 220 per month</td><td>1</td></tr><tr><td>RM 480 000 per month</td><td>1</td></tr><tr><td>RM 905 per month</td><td>1</td></tr><tr><td>RM 901 per month</td><td>1</td></tr><tr><td>RM 881 per month</td><td>1</td></tr><tr><td>RM 599 per month</td><td>1</td></tr><tr><td>RM 215 000 per month</td><td>1</td></tr><tr><td>RM 3 980 per month</td><td>1</td></tr><tr><td>RM 878 per month</td><td>1</td></tr><tr><td>RM 883 per month</td><td>1</td></tr><tr><td>RM 6 888 per month</td><td>1</td></tr><tr><td>RM 95 000 per month</td><td>1</td></tr><tr><td>RM 722 per month</td><td>1</td></tr><tr><td>RM 1 297 per month</td><td>1</td></tr><tr><td>RM 958 per month</td><td>1</td></tr><tr><td>RM 320 000 per month</td><td>1</td></tr><tr><td>RM 889 per month</td><td>1</td></tr><tr><td>RM 230 000 per month</td><td>1</td></tr><tr><td>RM 1 070 per month</td><td>1</td></tr><tr><td>RM 689 per month</td><td>1</td></tr><tr><td>RM 656 per month</td><td>1</td></tr><tr><td>RM 902 per month</td><td>1</td></tr><tr><td>RM 1 158 per month</td><td>1</td></tr><tr><td>RM 240 000 per month</td><td>1</td></tr><tr><td>RM 879 per month</td><td>1</td></tr><tr><td>RM 2 398 per month</td><td>1</td></tr></tbody></table></div>"
      ]
     },
     "metadata": {
      "application/vnd.databricks.v1+output": {
       "addedWidgets": {},
       "aggData": [],
       "aggError": "",
       "aggOverflow": false,
       "aggSchema": [],
       "aggSeriesLimitReached": false,
       "aggType": "",
       "arguments": {},
       "columnCustomDisplayInfos": {},
       "data": [
        [
         "RM 1 500 per month",
         1401
        ],
        [
         "RM 1 200 per month",
         1373
        ],
        [
         "RM 1 300 per month",
         1209
        ],
        [
         "RM 1 600 per month",
         1067
        ],
        [
         "RM 1 400 per month",
         1024
        ],
        [
         "RM 1 000 per month",
         986
        ],
        [
         "RM 1 800 per month",
         899
        ],
        [
         "RM 1 100 per month",
         828
        ],
        [
         "RM 1 700 per month",
         755
        ],
        [
         "RM 2 000 per month",
         728
        ],
        [
         "RM 900 per month",
         604
        ],
        [
         "RM 2 500 per month",
         456
        ],
        [
         "RM 850 per month",
         441
        ],
        [
         "RM 800 per month",
         433
        ],
        [
         "RM 2 200 per month",
         427
        ],
        [
         "RM 950 per month",
         381
        ],
        [
         "RM 700 per month",
         350
        ],
        [
         "RM 1 900 per month",
         343
        ],
        [
         "RM 2 300 per month",
         330
        ],
        [
         "RM 750 per month",
         299
        ],
        [
         "RM 1 350 per month",
         293
        ],
        [
         "RM 1 250 per month",
         276
        ],
        [
         "RM 2 100 per month",
         257
        ],
        [
         "RM 2 400 per month",
         223
        ],
        [
         "RM 2 800 per month",
         208
        ],
        [
         "RM 2 600 per month",
         204
        ],
        [
         "RM 3 000 per month",
         203
        ],
        [
         "RM 600 per month",
         173
        ],
        [
         "RM 1 650 per month",
         165
        ],
        [
         "RM 1 450 per month",
         164
        ],
        [
         "RM 1 150 per month",
         159
        ],
        [
         "RM 3 500 per month",
         156
        ],
        [
         "RM 650 per month",
         155
        ],
        [
         "RM 1 550 per month",
         144
        ],
        [
         "RM 1 050 per month",
         106
        ],
        [
         "RM 2 700 per month",
         100
        ],
        [
         "RM 1 750 per month",
         97
        ],
        [
         "RM 4 000 per month",
         97
        ],
        [
         "RM 550 per month",
         84
        ],
        [
         "RM 3 300 per month",
         84
        ],
        [
         "RM 1 850 per month",
         83
        ],
        [
         "RM 3 200 per month",
         81
        ],
        [
         "RM 500 per month",
         76
        ],
        [
         "RM 999 per month",
         73
        ],
        [
         "RM 1 499 per month",
         71
        ],
        [
         "RM 1 199 per month",
         67
        ],
        [
         "RM 1 950 per month",
         56
        ],
        [
         "RM 1 399 per month",
         53
        ],
        [
         "RM 1 799 per month",
         53
        ],
        [
         "RM 4 500 per month",
         49
        ],
        [
         "RM 3 800 per month",
         47
        ],
        [
         "RM 1 299 per month",
         46
        ],
        [
         "RM 2 900 per month",
         45
        ],
        [
         "RM 1 999 per month",
         43
        ],
        [
         "RM 1 099 per month",
         41
        ],
        [
         "RM 3 700 per month",
         41
        ],
        [
         "RM 3 400 per month",
         38
        ],
        [
         "RM 3 600 per month",
         37
        ],
        [
         "RM 1 599 per month",
         36
        ],
        [
         "RM 899 per month",
         27
        ],
        [
         "RM 5 000 per month",
         26
        ],
        [
         "RM 1 899 per month",
         25
        ],
        [
         "RM 3 100 per month",
         24
        ],
        [
         "RM 450 per month",
         22
        ],
        [
         "RM 2 450 per month",
         22
        ],
        [
         "RM 1 699 per month",
         21
        ],
        [
         "RM 400 per month",
         21
        ],
        [
         "RM 2 350 per month",
         20
        ],
        [
         "RM 780 per month",
         19
        ],
        [
         "RM 4 300 per month",
         18
        ],
        [
         "RM 5 500 per month",
         18
        ],
        [
         "RM 680 per month",
         17
        ],
        [
         "RM 4 200 per month",
         17
        ],
        [
         "RM 5 800 per month",
         16
        ],
        [
         "RM 2 499 per month",
         15
        ],
        [
         "RM 799 per month",
         15
        ],
        [
         "RM 4 800 per month",
         15
        ],
        [
         "RM 699 per month",
         15
        ],
        [
         "RM 2 650 per month",
         13
        ],
        [
         "RM 4 600 per month",
         13
        ],
        [
         "RM 980 per month",
         13
        ],
        [
         "RM 2 250 per month",
         13
        ],
        [
         "RM 2 299 per month",
         12
        ],
        [
         "RM 3 900 per month",
         12
        ],
        [
         "RM 880 per month",
         12
        ],
        [
         "RM 2 150 per month",
         12
        ],
        [
         "RM 2 999 per month",
         12
        ],
        [
         "RM 830 per month",
         11
        ],
        [
         "RM 2 480 per month",
         10
        ],
        [
         "RM 7 000 per month",
         10
        ],
        [
         "RM 1 280 per month",
         10
        ],
        [
         "RM 1 680 per month",
         10
        ],
        [
         "RM 2 750 per month",
         10
        ],
        [
         "RM 2 050 per month",
         9
        ],
        [
         "RM 2 099 per month",
         9
        ],
        [
         "RM 6 500 per month",
         9
        ],
        [
         "RM 150 per month",
         9
        ],
        [
         "RM 4 700 per month",
         9
        ],
        [
         "RM 601 per month",
         9
        ],
        [
         "RM 2 199 per month",
         8
        ],
        [
         "RM 7 500 per month",
         8
        ],
        [
         "RM 100 per month",
         8
        ],
        [
         "RM 1 988 per month",
         8
        ],
        [
         "RM 1 498 per month",
         7
        ],
        [
         "RM 350 per month",
         7
        ],
        [
         "RM 580 per month",
         7
        ],
        [
         "RM 2 399 per month",
         7
        ],
        [
         "RM 602 per month",
         7
        ],
        [
         "RM 4 400 per month",
         7
        ],
        [
         "RM 200 per month",
         7
        ],
        [
         "RM 300 per month",
         7
        ],
        [
         "RM 2 550 per month",
         7
        ],
        [
         "RM 1 198 per month",
         7
        ],
        [
         "RM 1 380 per month",
         7
        ],
        [
         "RM 603 per month",
         7
        ],
        [
         "RM 1 205 per month",
         6
        ],
        [
         "RM 5 200 per month",
         6
        ],
        [
         "RM 760 per month",
         6
        ],
        [
         "RM 1 998 per month",
         6
        ],
        [
         "RM 10 000 per month",
         6
        ],
        [
         "RM 1 202 per month",
         6
        ],
        [
         "RM 620 per month",
         6
        ],
        [
         "RM 1 580 per month",
         6
        ],
        [
         "RM 6 000 per month",
         6
        ],
        [
         "RM 1 488 per month",
         6
        ],
        [
         "RM 1 780 per month",
         6
        ],
        [
         "RM 630 per month",
         6
        ],
        [
         "RM 8 500 per month",
         5
        ],
        [
         "RM 2 950 per month",
         5
        ],
        [
         "RM 1 090 per month",
         5
        ],
        [
         "RM 1 798 per month",
         5
        ],
        [
         "RM 604 per month",
         5
        ],
        [
         "RM 1 203 per month",
         5
        ],
        [
         "RM 1 388 per month",
         5
        ],
        [
         "RM 16 000 per month",
         5
        ],
        [
         "RM 12 000 per month",
         5
        ],
        [
         "RM 605 per month",
         5
        ],
        [
         "RM 798 per month",
         5
        ],
        [
         "RM 1 398 per month",
         5
        ],
        [
         "RM 860 per month",
         5
        ],
        [
         "RM 1 688 per month",
         5
        ],
        [
         "RM 120 per month",
         5
        ],
        [
         "RM 8 000 per month",
         5
        ],
        [
         "RM 1 080 per month",
         4
        ],
        [
         "RM 4 900 per month",
         4
        ],
        [
         "RM 3 499 per month",
         4
        ],
        [
         "RM 1 180 per month",
         4
        ],
        [
         "RM 770 per month",
         4
        ],
        [
         "RM 250 per month",
         4
        ],
        [
         "RM 730 per month",
         4
        ],
        [
         "RM 870 per month",
         4
        ],
        [
         "RM 1 298 per month",
         4
        ],
        [
         "RM 910 per month",
         4
        ],
        [
         "RM 920 per month",
         4
        ],
        [
         "RM 1 201 per month",
         4
        ],
        [
         "RM 1 880 per month",
         4
        ],
        [
         "RM 15 000 per month",
         4
        ],
        [
         "RM 250 000 per month",
         4
        ],
        [
         "RM 698 per month",
         4
        ],
        [
         "RM 530 per month",
         4
        ],
        [
         "RM 1 980 per month",
         3
        ],
        [
         "RM 1 204 per month",
         3
        ],
        [
         "RM 3 450 per month",
         3
        ],
        [
         "RM 2 380 per month",
         3
        ],
        [
         "RM 2 080 per month",
         3
        ],
        [
         "RM 2 850 per month",
         3
        ],
        [
         "RM 720 per month",
         3
        ],
        [
         "RM 9 000 per month",
         3
        ],
        [
         "RM 998 per month",
         3
        ],
        [
         "RM 2 899 per month",
         3
        ],
        [
         "RM 2 888 per month",
         3
        ],
        [
         "RM 648 per month",
         3
        ],
        [
         "RM 1 373 per month",
         3
        ],
        [
         "RM 1 390 per month",
         3
        ],
        [
         "RM 1 480 per month",
         3
        ],
        [
         "RM 9 500 per month",
         3
        ],
        [
         "RM 380 per month",
         3
        ],
        [
         "RM 1 588 per month",
         3
        ],
        [
         "RM 1 990 per month",
         3
        ],
        [
         "RM 948 per month",
         3
        ],
        [
         "RM 1 098 per month",
         3
        ],
        [
         "RM 2 699 per month",
         3
        ],
        [
         "RM 280 per month",
         3
        ],
        [
         "RM 580 000 per month",
         3
        ],
        [
         "RM 660 per month",
         3
        ],
        [
         "RM 2 998 per month",
         3
        ],
        [
         "RM 460 per month",
         3
        ],
        [
         "RM 820 per month",
         3
        ],
        [
         "RM 1 698 per month",
         3
        ],
        [
         "RM 930 per month",
         2
        ],
        [
         "RM 1 949 per month",
         2
        ],
        [
         "RM 890 per month",
         2
        ],
        [
         "RM 1 548 per month",
         2
        ],
        [
         "RM 4 250 per month",
         2
        ],
        [
         null,
         2
        ],
        [
         "RM 1 049 per month",
         2
        ],
        [
         "RM 370 per month",
         2
        ],
        [
         "RM 11 000 per month",
         2
        ],
        [
         "RM 480 per month",
         2
        ],
        [
         "RM 1 490 per month",
         2
        ],
        [
         "RM 3 099 per month",
         2
        ],
        [
         "RM 13 000 per month",
         2
        ],
        [
         "RM 690 per month",
         2
        ],
        [
         "RM 740 per month",
         2
        ],
        [
         "RM 1 190 per month",
         2
        ],
        [
         "RM 1 288 per month",
         2
        ],
        [
         "RM 701 per month",
         2
        ],
        [
         "RM 270 per month",
         2
        ],
        [
         "RM 7 900 per month",
         2
        ],
        [
         "RM 4 876 per month",
         2
        ],
        [
         "RM 1 030 per month",
         2
        ],
        [
         "RM 810 per month",
         2
        ],
        [
         "RM 1 230 per month",
         2
        ],
        [
         "RM 80 per month",
         2
        ],
        [
         "RM 790 per month",
         2
        ],
        [
         "RM 345 000 per month",
         2
        ],
        [
         "RM 849 per month",
         2
        ],
        [
         "RM 499 per month",
         2
        ],
        [
         "RM 4 888 per month",
         2
        ],
        [
         "RM 16 800 per month",
         2
        ],
        [
         "RM 2 490 per month",
         2
        ],
        [
         "RM 1 690 per month",
         2
        ],
        [
         "RM 2 280 per month",
         2
        ],
        [
         "RM 898 per month",
         2
        ],
        [
         "RM 5 300 per month",
         2
        ],
        [
         "RM 2 799 per month",
         2
        ],
        [
         "RM 6 900 per month",
         2
        ],
        [
         "RM 710 per month",
         2
        ],
        [
         "RM 1 730 per month",
         2
        ],
        [
         "RM 11 500 per month",
         2
        ],
        [
         "RM 13 500 per month",
         2
        ],
        [
         "RM 12 500 per month",
         2
        ],
        [
         "RM 1 348 per month",
         2
        ],
        [
         "RM 3 350 per month",
         2
        ],
        [
         "RM 7 800 per month",
         2
        ],
        [
         "RM 2 599 per month",
         2
        ],
        [
         "RM 260 per month",
         2
        ],
        [
         "RM 5 499 per month",
         2
        ],
        [
         "RM 882 per month",
         2
        ],
        [
         "RM 1 598 per month",
         2
        ],
        [
         "RM 780 000 per month",
         1
        ],
        [
         "RM 4 848 per month",
         1
        ],
        [
         "RM 1 449 per month",
         1
        ],
        [
         "RM 4 399 per month",
         1
        ],
        [
         "RM 1 712 per month",
         1
        ],
        [
         "RM 200 000 per month",
         1
        ],
        [
         "RM 10 300 per month",
         1
        ],
        [
         "RM 1 590 per month",
         1
        ],
        [
         "RM 1 140 per month",
         1
        ],
        [
         "RM 801 per month",
         1
        ],
        [
         "RM 3 999 per month",
         1
        ],
        [
         "RM 4 999 per month",
         1
        ],
        [
         "RM 430 per month",
         1
        ],
        [
         "RM 1 249 per month",
         1
        ],
        [
         "RM 4 899 per month",
         1
        ],
        [
         "RM 90 per month",
         1
        ],
        [
         "RM 3 950 per month",
         1
        ],
        [
         "RM 145 per month",
         1
        ],
        [
         "RM 190 000 per month",
         1
        ],
        [
         "RM 915 per month",
         1
        ],
        [
         "RM 2 790 per month",
         1
        ],
        [
         "RM 418 000 per month",
         1
        ],
        [
         "RM 105 000 per month",
         1
        ],
        [
         "RM 949 per month",
         1
        ],
        [
         "RM 3 399 per month",
         1
        ],
        [
         "RM 2 988 per month",
         1
        ],
        [
         "RM 5 950 per month",
         1
        ],
        [
         "RM 645 per month",
         1
        ],
        [
         "RM 3 899 per month",
         1
        ],
        [
         "RM 3 599 per month",
         1
        ],
        [
         "RM 180 per month",
         1
        ],
        [
         "RM 6 800 per month",
         1
        ],
        [
         "RM 3 990 per month",
         1
        ],
        [
         "RM 3 650 per month",
         1
        ],
        [
         "RM 1 155 per month",
         1
        ],
        [
         "RM 290 000 per month",
         1
        ],
        [
         "RM 2 798 per month",
         1
        ],
        [
         "RM 1 270 per month",
         1
        ],
        [
         "RM 705 per month",
         1
        ],
        [
         "RM 127 898 per month",
         1
        ],
        [
         "RM 670 per month",
         1
        ],
        [
         "RM 695 per month",
         1
        ],
        [
         "RM 1 502 per month",
         1
        ],
        [
         "RM 190 per month",
         1
        ],
        [
         "RM 45 000 per month",
         1
        ],
        [
         "RM 10 500 per month",
         1
        ],
        [
         "RM 1 693 per month",
         1
        ],
        [
         "RM 290 per month",
         1
        ],
        [
         "RM 125 000 per month",
         1
        ],
        [
         "RM 1 948 per month",
         1
        ],
        [
         "RM 3 380 per month",
         1
        ],
        [
         "RM 996 per month",
         1
        ],
        [
         "RM 310 000 per month",
         1
        ],
        [
         "RM 749 per month",
         1
        ],
        [
         "RM 960 per month",
         1
        ],
        [
         "RM 3 120 per month",
         1
        ],
        [
         "RM 288 000 per month",
         1
        ],
        [
         "RM 1 501 per month",
         1
        ],
        [
         "RM 3 299 per month",
         1
        ],
        [
         "RM 746 per month",
         1
        ],
        [
         "RM 18 500 per month",
         1
        ],
        [
         "RM 8 999 per month",
         1
        ],
        [
         "RM 349 898 per month",
         1
        ],
        [
         "RM 1 340 per month",
         1
        ],
        [
         "RM 330 000 per month",
         1
        ],
        [
         "RM 1 045 per month",
         1
        ],
        [
         "RM 1 330 per month",
         1
        ],
        [
         "RM 329 999 per month",
         1
        ],
        [
         "RM 549 per month",
         1
        ],
        [
         "RM 110 per month",
         1
        ],
        [
         "RM 1 248 per month",
         1
        ],
        [
         "RM 3 088 per month",
         1
        ],
        [
         "RM 1 360 per month",
         1
        ],
        [
         "RM 824 per month",
         1
        ],
        [
         "RM 875 per month",
         1
        ],
        [
         "RM 419 000 per month",
         1
        ],
        [
         "RM 3 198 per month",
         1
        ],
        [
         "RM 1 720 per month",
         1
        ],
        [
         "RM 17 000 per month",
         1
        ],
        [
         "RM 1 189 per month",
         1
        ],
        [
         "RM 1 188 per month",
         1
        ],
        [
         "RM 249 900 per month",
         1
        ],
        [
         "RM 995 per month",
         1
        ],
        [
         "RM 3 550 per month",
         1
        ],
        [
         "RM 2 400 000 per month",
         1
        ],
        [
         "RM 1 810 per month",
         1
        ],
        [
         "RM 1 788 per month",
         1
        ],
        [
         "RM 4 350 per month",
         1
        ],
        [
         "RM 3 799 per month",
         1
        ],
        [
         "RM 3 490 per month",
         1
        ],
        [
         "RM 550 000 per month",
         1
        ],
        [
         "RM 3 150 per month",
         1
        ],
        [
         "RM 260 000 per month",
         1
        ],
        [
         "RM 85 per month",
         1
        ],
        [
         "RM 1 210 per month",
         1
        ],
        [
         "RM 1 111 per month",
         1
        ],
        [
         "RM 1 109 per month",
         1
        ],
        [
         "RM 5 900 per month",
         1
        ],
        [
         "RM 4 650 per month",
         1
        ],
        [
         "RM 9 600 per month",
         1
        ],
        [
         "RM 1 260 per month",
         1
        ],
        [
         "RM 1 630 per month",
         1
        ],
        [
         "RM 390 per month",
         1
        ],
        [
         "RM 5 600 per month",
         1
        ],
        [
         "RM 1 790 per month",
         1
        ],
        [
         "RM 1 048 per month",
         1
        ],
        [
         "RM 748 per month",
         1
        ],
        [
         "RM 450 000 per month",
         1
        ],
        [
         "RM 1 430 per month",
         1
        ],
        [
         "RM 903 per month",
         1
        ],
        [
         "RM 9 800 per month",
         1
        ],
        [
         "RM 904 per month",
         1
        ],
        [
         "RM 723 per month",
         1
        ],
        [
         "RM 658 per month",
         1
        ],
        [
         "RM 885 per month",
         1
        ],
        [
         "RM 649 per month",
         1
        ],
        [
         "RM 1 220 per month",
         1
        ],
        [
         "RM 1 520 per month",
         1
        ],
        [
         "RM 884 per month",
         1
        ],
        [
         "RM 70 per month",
         1
        ],
        [
         "RM 970 per month",
         1
        ],
        [
         "RM 4 100 per month",
         1
        ],
        [
         "RM 220 per month",
         1
        ],
        [
         "RM 480 000 per month",
         1
        ],
        [
         "RM 905 per month",
         1
        ],
        [
         "RM 901 per month",
         1
        ],
        [
         "RM 881 per month",
         1
        ],
        [
         "RM 599 per month",
         1
        ],
        [
         "RM 215 000 per month",
         1
        ],
        [
         "RM 3 980 per month",
         1
        ],
        [
         "RM 878 per month",
         1
        ],
        [
         "RM 883 per month",
         1
        ],
        [
         "RM 6 888 per month",
         1
        ],
        [
         "RM 95 000 per month",
         1
        ],
        [
         "RM 722 per month",
         1
        ],
        [
         "RM 1 297 per month",
         1
        ],
        [
         "RM 958 per month",
         1
        ],
        [
         "RM 320 000 per month",
         1
        ],
        [
         "RM 889 per month",
         1
        ],
        [
         "RM 230 000 per month",
         1
        ],
        [
         "RM 1 070 per month",
         1
        ],
        [
         "RM 689 per month",
         1
        ],
        [
         "RM 656 per month",
         1
        ],
        [
         "RM 902 per month",
         1
        ],
        [
         "RM 1 158 per month",
         1
        ],
        [
         "RM 240 000 per month",
         1
        ],
        [
         "RM 879 per month",
         1
        ],
        [
         "RM 2 398 per month",
         1
        ]
       ],
       "datasetInfos": [],
       "dbfsResultPath": null,
       "isJsonSchema": true,
       "metadata": {},
       "overflow": false,
       "plotOptions": {
        "customPlotOptions": {},
        "displayType": "table",
        "pivotAggregation": null,
        "pivotColumns": null,
        "xColumns": null,
        "yColumns": null
       },
       "removedWidgets": [],
       "schema": [
        {
         "metadata": "{}",
         "name": "monthly_rent",
         "type": "\"string\""
        },
        {
         "metadata": "{}",
         "name": "count",
         "type": "\"long\""
        }
       ],
       "type": "table"
      }
     },
     "output_type": "display_data"
    }
   ],
   "source": [
    "# Group by 'monthly_rent' and count occurrences, then sort by count in descending order\n",
    "top_rent_values = df.groupBy(\"monthly_rent\").count().orderBy(\"count\", ascending=False)\n",
    "\n",
    "# Show the top 10 most frequent rent values\n",
    "top_rent_values.show(10)\n",
    "\n",
    "# Visualize the data\n",
    "display(top_rent_values)\n"
   ]
  },
  {
   "cell_type": "code",
   "execution_count": 0,
   "metadata": {
    "application/vnd.databricks.v1+cell": {
     "cellMetadata": {
      "byteLimit": 2048000,
      "rowLimit": 10000
     },
     "inputWidgets": {},
     "nuid": "09b0724c-d069-418f-b15e-15e4fae3953d",
     "showTitle": false,
     "tableResultSettingsMap": {},
     "title": ""
    }
   },
   "outputs": [
    {
     "output_type": "display_data",
     "data": {
      "text/html": [
       "<style scoped>\n",
       "  .table-result-container {\n",
       "    max-height: 300px;\n",
       "    overflow: auto;\n",
       "  }\n",
       "  table, th, td {\n",
       "    border: 1px solid black;\n",
       "    border-collapse: collapse;\n",
       "  }\n",
       "  th, td {\n",
       "    padding: 5px;\n",
       "  }\n",
       "  th {\n",
       "    text-align: left;\n",
       "  }\n",
       "</style><div class='table-result-container'><table class='table-result'><thead style='background-color: white'><tr><th>monthly_rent</th><th>count</th></tr></thead><tbody><tr><td>null</td><td>2</td></tr><tr><td>RM 1 000 per month</td><td>986</td></tr><tr><td>RM 1 030 per month</td><td>2</td></tr><tr><td>RM 1 045 per month</td><td>1</td></tr><tr><td>RM 1 048 per month</td><td>1</td></tr><tr><td>RM 1 049 per month</td><td>2</td></tr><tr><td>RM 1 050 per month</td><td>106</td></tr><tr><td>RM 1 070 per month</td><td>1</td></tr><tr><td>RM 1 080 per month</td><td>4</td></tr><tr><td>RM 1 090 per month</td><td>5</td></tr></tbody></table></div>"
      ]
     },
     "metadata": {
      "application/vnd.databricks.v1+output": {
       "addedWidgets": {},
       "aggData": [],
       "aggError": "",
       "aggOverflow": false,
       "aggSchema": [],
       "aggSeriesLimitReached": false,
       "aggType": "",
       "arguments": {},
       "columnCustomDisplayInfos": {},
       "data": [
        [
         null,
         2
        ],
        [
         "RM 1 000 per month",
         986
        ],
        [
         "RM 1 030 per month",
         2
        ],
        [
         "RM 1 045 per month",
         1
        ],
        [
         "RM 1 048 per month",
         1
        ],
        [
         "RM 1 049 per month",
         2
        ],
        [
         "RM 1 050 per month",
         106
        ],
        [
         "RM 1 070 per month",
         1
        ],
        [
         "RM 1 080 per month",
         4
        ],
        [
         "RM 1 090 per month",
         5
        ]
       ],
       "datasetInfos": [],
       "dbfsResultPath": null,
       "isJsonSchema": true,
       "metadata": {},
       "overflow": false,
       "plotOptions": {
        "customPlotOptions": {},
        "displayType": "table",
        "pivotAggregation": null,
        "pivotColumns": null,
        "xColumns": null,
        "yColumns": null
       },
       "removedWidgets": [],
       "schema": [
        {
         "metadata": "{}",
         "name": "monthly_rent",
         "type": "\"string\""
        },
        {
         "metadata": "{}",
         "name": "count",
         "type": "\"long\""
        }
       ],
       "type": "table"
      }
     },
     "output_type": "display_data"
    },
    {
     "output_type": "display_data",
     "data": {
      "text/plain": [
       "Databricks visualization. Run in Databricks to view."
      ]
     },
     "metadata": {
      "application/vnd.databricks.v1.subcommand+json": {
       "baseErrorDetails": null,
       "bindings": {},
       "collapsed": false,
       "command": "%python\n__backend_agg_display_orig = display\n__backend_agg_dfs = []\ndef __backend_agg_display_new(df):\n    __backend_agg_df_modules = [\"pandas.core.frame\", \"databricks.koalas.frame\", \"pyspark.sql.dataframe\", \"pyspark.pandas.frame\", \"pyspark.sql.connect.dataframe\"]\n    if (type(df).__module__ in __backend_agg_df_modules and type(df).__name__ == 'DataFrame') or isinstance(df, list):\n        __backend_agg_dfs.append(df)\n\ndisplay = __backend_agg_display_new\n\ndef __backend_agg_user_code_fn():\n    import base64\n    exec(base64.standard_b64decode(\"IyBHcm91cCBieSAnbW9udGhseV9yZW50JyBhbmQgY291bnQgb2NjdXJyZW5jZXMKcmVudF9kaXN0cmlidXRpb24gPSBkZi5ncm91cEJ5KCJtb250aGx5X3JlbnQiKS5jb3VudCgpLm9yZGVyQnkoIm1vbnRobHlfcmVudCIsIGFzY2VuZGluZz1UcnVlKQoKIyBEaXNwbGF5IHRoZSByZXN1bHQgZm9yIHZpc3VhbGl6YXRpb24KZGlzcGxheShyZW50X2Rpc3RyaWJ1dGlvbi5saW1pdCgxMCkpCg==\").decode())\n\ntry:\n    # run user code\n    __backend_agg_user_code_fn()\n\n    #reset display function\n    display = __backend_agg_display_orig\n\n    if len(__backend_agg_dfs) > 0:\n        # create a temp view\n        if type(__backend_agg_dfs[0]).__module__ == \"databricks.koalas.frame\":\n            # koalas dataframe\n            __backend_agg_dfs[0].to_spark().createOrReplaceTempView(\"DatabricksView53cfb68\")\n        elif type(__backend_agg_dfs[0]).__module__ == \"pandas.core.frame\" or isinstance(__backend_agg_dfs[0], list):\n            # pandas dataframe\n            spark.createDataFrame(__backend_agg_dfs[0]).createOrReplaceTempView(\"DatabricksView53cfb68\")\n        else:\n            __backend_agg_dfs[0].createOrReplaceTempView(\"DatabricksView53cfb68\")\n        #run backend agg\n        display(spark.sql(\"\"\"WITH q AS (select * from DatabricksView53cfb68) SELECT `monthly_rent`,SUM(`count`) `column_1e79894614` FROM q GROUP BY `monthly_rent`\"\"\"))\n    else:\n        displayHTML(\"dataframe no longer exists. If you're using dataframe.display(), use display(dataframe) instead.\")\n\n\nfinally:\n    spark.sql(\"drop view if exists DatabricksView53cfb68\")\n    display = __backend_agg_display_orig\n    del __backend_agg_display_new\n    del __backend_agg_display_orig\n    del __backend_agg_dfs\n    del __backend_agg_user_code_fn\n\n",
       "commandTitle": "Visualization 1",
       "commandType": "auto",
       "commandVersion": 0,
       "commentThread": [],
       "commentsVisible": false,
       "contentSha256Hex": null,
       "customPlotOptions": {
        "redashChart": [
         {
          "key": "type",
          "value": "CHART"
         },
         {
          "key": "options",
          "value": {
           "alignYAxesAtZero": true,
           "coefficient": 1,
           "columnConfigurationMap": {
            "x": {
             "column": "monthly_rent",
             "id": "column_1e79894613"
            },
            "y": [
             {
              "column": "count",
              "id": "column_1e79894614",
              "transform": "SUM"
             }
            ]
           },
           "dateTimeFormat": "DD/MM/YYYY HH:mm",
           "direction": {
            "type": "counterclockwise"
           },
           "error_y": {
            "type": "data",
            "visible": true
           },
           "globalSeriesType": "column",
           "legend": {
            "traceorder": "normal"
           },
           "missingValuesAsZero": true,
           "numberFormat": "0,0.[00000]",
           "percentFormat": "0[.]00%",
           "series": {
            "error_y": {
             "type": "data",
             "visible": true
            },
            "stacking": null
           },
           "seriesOptions": {
            "column_1e79894614": {
             "name": "count",
             "yAxis": 0
            }
           },
           "showDataLabels": false,
           "sizemode": "diameter",
           "sortX": true,
           "sortY": true,
           "swappedAxes": true,
           "textFormat": "",
           "useAggregationsUi": true,
           "valuesOptions": {},
           "version": 2,
           "xAxis": {
            "labels": {
             "enabled": true
            },
            "type": "-"
           },
           "yAxis": [
            {
             "type": "-"
            },
            {
             "opposite": true,
             "type": "-"
            }
           ]
          }
         }
        ]
       },
       "datasetPreviewNameToCmdIdMap": {},
       "diffDeletes": [],
       "diffInserts": [],
       "displayType": "redashChart",
       "error": null,
       "errorDetails": null,
       "errorSummary": null,
       "errorTraceType": null,
       "finishTime": 0,
       "globalVars": {},
       "guid": "",
       "height": "auto",
       "hideCommandCode": false,
       "hideCommandResult": false,
       "iPythonMetadata": null,
       "inputWidgets": {},
       "isLockedInExamMode": false,
       "latestUser": "a user",
       "latestUserId": null,
       "listResultMetadata": null,
       "metadata": {},
       "nuid": "77c287fe-776d-4094-9fd8-3c90136eb296",
       "origId": 0,
       "parentHierarchy": [],
       "pivotAggregation": null,
       "pivotColumns": null,
       "position": 10.0,
       "resultDbfsErrorMessage": null,
       "resultDbfsStatus": "INLINED_IN_TREE",
       "results": null,
       "showCommandTitle": false,
       "startTime": 0,
       "state": "input",
       "streamStates": {},
       "subcommandOptions": {
        "queryPlan": {
         "groups": [
          {
           "column": "monthly_rent",
           "type": "column"
          }
         ],
         "selects": [
          {
           "column": "monthly_rent",
           "type": "column"
          },
          {
           "alias": "column_1e79894614",
           "args": [
            {
             "column": "count",
             "type": "column"
            }
           ],
           "function": "SUM",
           "type": "function"
          }
         ]
        }
       },
       "submitTime": 0,
       "subtype": "tableResultSubCmd.visualization",
       "tableResultIndex": 0,
       "tableResultSettingsMap": {},
       "useConsistentColors": false,
       "version": "CommandV1",
       "width": "auto",
       "workflows": [],
       "xColumns": null,
       "yColumns": null
      }
     },
     "output_type": "display_data"
    }
   ],
   "source": [
    "# Group by 'monthly_rent' and count occurrences\n",
    "rent_distribution = df.groupBy(\"monthly_rent\").count().orderBy(\"monthly_rent\", ascending=True)\n",
    "\n",
    "# Display the result for visualization\n",
    "display(rent_distribution.limit(10))\n"
   ]
  }
 ],
 "metadata": {
  "application/vnd.databricks.v1+notebook": {
   "dashboards": [],
   "environmentMetadata": {
    "base_environment": "",
    "client": "1"
   },
   "language": "python",
   "notebookMetadata": {
    "pythonIndentUnit": 4
   },
   "notebookName": "Untitled Notebook 2024-12-10 16:27:03",
   "widgets": {}
  },
  "language_info": {
   "name": "python"
  }
 },
 "nbformat": 4,
 "nbformat_minor": 0
}
