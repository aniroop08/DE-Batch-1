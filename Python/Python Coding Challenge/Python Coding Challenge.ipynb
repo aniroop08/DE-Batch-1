{
 "cells": [
  {
   "cell_type": "code",
   "execution_count": 19,
   "id": "93a8735e-e8b1-4d5b-8aa2-a9560845dfab",
   "metadata": {},
   "outputs": [
    {
     "name": "stdout",
     "output_type": "stream",
     "text": [
      "   Year Industry_aggregation_NZSIOC Industry_code_NZSIOC Industry_name_NZSIOC  \\\n",
      "0  2023                     Level 1                99999       All industries   \n",
      "1  2023                     Level 1                99999       All industries   \n",
      "2  2023                     Level 1                99999       All industries   \n",
      "3  2023                     Level 1                99999       All industries   \n",
      "4  2023                     Level 1                99999       All industries   \n",
      "\n",
      "                Units Variable_code  \\\n",
      "0  Dollars (millions)           H01   \n",
      "1  Dollars (millions)           H04   \n",
      "2  Dollars (millions)           H05   \n",
      "3  Dollars (millions)           H07   \n",
      "4  Dollars (millions)           H08   \n",
      "\n",
      "                                     Variable_name      Variable_category  \\\n",
      "0                                     Total income  Financial performance   \n",
      "1  Sales, government funding, grants and subsidies  Financial performance   \n",
      "2                Interest, dividends and donations  Financial performance   \n",
      "3                             Non-operating income  Financial performance   \n",
      "4                                Total expenditure  Financial performance   \n",
      "\n",
      "    Value                             Industry_code_ANZSIC06  \n",
      "0  930995  ANZSIC06 divisions A-S (excluding classes K633...  \n",
      "1  821630  ANZSIC06 divisions A-S (excluding classes K633...  \n",
      "2   84354  ANZSIC06 divisions A-S (excluding classes K633...  \n",
      "3   25010  ANZSIC06 divisions A-S (excluding classes K633...  \n",
      "4  832964  ANZSIC06 divisions A-S (excluding classes K633...  \n"
     ]
    }
   ],
   "source": [
    "#Printing Rows of the Data:\n",
    "import pandas as pd\n",
    "\n",
    "data = pd.read_csv(\"annual-enterprise-survey-2023-financial-year-provisional.csv\")\n",
    "\n",
    "print(data.head())\n"
   ]
  },
  {
   "cell_type": "code",
   "execution_count": 21,
   "id": "93c08a95-2609-4f47-97a7-c6209d1717a5",
   "metadata": {},
   "outputs": [
    {
     "data": {
      "text/plain": [
       "Index(['Year', 'Industry_aggregation_NZSIOC', 'Industry_code_NZSIOC',\n",
       "       'Industry_name_NZSIOC', 'Units', 'Variable_code', 'Variable_name',\n",
       "       'Variable_category', 'Value', 'Industry_code_ANZSIC06'],\n",
       "      dtype='object')"
      ]
     },
     "execution_count": 21,
     "metadata": {},
     "output_type": "execute_result"
    }
   ],
   "source": [
    "#Printing Column Names:\n",
    "data.columns\n"
   ]
  },
  {
   "cell_type": "code",
   "execution_count": 22,
   "id": "2a3567a0-6267-4500-ba34-d8692a1ce62a",
   "metadata": {},
   "outputs": [
    {
     "name": "stdout",
     "output_type": "stream",
     "text": [
      "<class 'pandas.core.frame.DataFrame'>\n",
      "RangeIndex: 50985 entries, 0 to 50984\n",
      "Data columns (total 10 columns):\n",
      " #   Column                       Non-Null Count  Dtype \n",
      "---  ------                       --------------  ----- \n",
      " 0   Year                         50985 non-null  int64 \n",
      " 1   Industry_aggregation_NZSIOC  50985 non-null  object\n",
      " 2   Industry_code_NZSIOC         50985 non-null  object\n",
      " 3   Industry_name_NZSIOC         50985 non-null  object\n",
      " 4   Units                        50985 non-null  object\n",
      " 5   Variable_code                50985 non-null  object\n",
      " 6   Variable_name                50985 non-null  object\n",
      " 7   Variable_category            50985 non-null  object\n",
      " 8   Value                        50985 non-null  object\n",
      " 9   Industry_code_ANZSIC06       50985 non-null  object\n",
      "dtypes: int64(1), object(9)\n",
      "memory usage: 3.9+ MB\n"
     ]
    }
   ],
   "source": [
    "#Summary of the DataFrame:\n",
    "data.info()\n"
   ]
  },
  {
   "cell_type": "code",
   "execution_count": 23,
   "id": "1c49add1-8f3d-4ebe-a36b-c149091d30c6",
   "metadata": {},
   "outputs": [
    {
     "data": {
      "text/html": [
       "<div>\n",
       "<style scoped>\n",
       "    .dataframe tbody tr th:only-of-type {\n",
       "        vertical-align: middle;\n",
       "    }\n",
       "\n",
       "    .dataframe tbody tr th {\n",
       "        vertical-align: top;\n",
       "    }\n",
       "\n",
       "    .dataframe thead th {\n",
       "        text-align: right;\n",
       "    }\n",
       "</style>\n",
       "<table border=\"1\" class=\"dataframe\">\n",
       "  <thead>\n",
       "    <tr style=\"text-align: right;\">\n",
       "      <th></th>\n",
       "      <th>Year</th>\n",
       "    </tr>\n",
       "  </thead>\n",
       "  <tbody>\n",
       "    <tr>\n",
       "      <th>count</th>\n",
       "      <td>50985.000000</td>\n",
       "    </tr>\n",
       "    <tr>\n",
       "      <th>mean</th>\n",
       "      <td>2018.000000</td>\n",
       "    </tr>\n",
       "    <tr>\n",
       "      <th>std</th>\n",
       "      <td>3.162309</td>\n",
       "    </tr>\n",
       "    <tr>\n",
       "      <th>min</th>\n",
       "      <td>2013.000000</td>\n",
       "    </tr>\n",
       "    <tr>\n",
       "      <th>25%</th>\n",
       "      <td>2015.000000</td>\n",
       "    </tr>\n",
       "    <tr>\n",
       "      <th>50%</th>\n",
       "      <td>2018.000000</td>\n",
       "    </tr>\n",
       "    <tr>\n",
       "      <th>75%</th>\n",
       "      <td>2021.000000</td>\n",
       "    </tr>\n",
       "    <tr>\n",
       "      <th>max</th>\n",
       "      <td>2023.000000</td>\n",
       "    </tr>\n",
       "  </tbody>\n",
       "</table>\n",
       "</div>"
      ],
      "text/plain": [
       "               Year\n",
       "count  50985.000000\n",
       "mean    2018.000000\n",
       "std        3.162309\n",
       "min     2013.000000\n",
       "25%     2015.000000\n",
       "50%     2018.000000\n",
       "75%     2021.000000\n",
       "max     2023.000000"
      ]
     },
     "execution_count": 23,
     "metadata": {},
     "output_type": "execute_result"
    }
   ],
   "source": [
    "#Descriptive Statistical Measures:\n",
    "data.describe()\n"
   ]
  },
  {
   "cell_type": "code",
   "execution_count": 24,
   "id": "3a3460df-eee8-4908-815c-238a37c9e70e",
   "metadata": {},
   "outputs": [
    {
     "name": "stdout",
     "output_type": "stream",
     "text": [
      "Number of columns: 10\n"
     ]
    }
   ],
   "source": [
    "#Number of Columns in the Dataset:\n",
    "size = len(data.columns)\n",
    "print(\"Number of columns:\", size)"
   ]
  },
  {
   "cell_type": "code",
   "execution_count": 26,
   "id": "d900b6da-d8dc-4890-82a9-ead41876d022",
   "metadata": {},
   "outputs": [
    {
     "name": "stdout",
     "output_type": "stream",
     "text": [
      "['Year', 'Industry_aggregation_NZSIOC', 'Industry_code_NZSIOC', 'Industry_name_NZSIOC', 'Units', 'Variable_code', 'Variable_name', 'Variable_category', 'Value', 'Industry_code_ANZSIC06']\n"
     ]
    }
   ],
   "source": [
    "#Print the Name of All Columns:\n",
    "print(data.columns.tolist())\n"
   ]
  },
  {
   "cell_type": "code",
   "execution_count": 27,
   "id": "658f502b-8778-4dd4-92da-04083e2a91e7",
   "metadata": {},
   "outputs": [
    {
     "name": "stdout",
     "output_type": "stream",
     "text": [
      "Number of Observation 50985\n"
     ]
    }
   ],
   "source": [
    "#Number of Observations in the Dataset:\n",
    "size_obj = len(data)\n",
    "print(\"Number of Observation\", size_obj)"
   ]
  },
  {
   "cell_type": "code",
   "execution_count": 28,
   "id": "0a899652-00ba-484a-8e5f-046980b54743",
   "metadata": {},
   "outputs": [
    {
     "name": "stdout",
     "output_type": "stream",
     "text": [
      "       Year Industry_aggregation_NZSIOC Industry_code_NZSIOC  \\\n",
      "40287  2015                     Level 4                KK112   \n",
      "40219  2015                     Level 3                 KK11   \n",
      "22078  2019                     Level 4                LL122   \n",
      "31348  2017                     Level 4                LL122   \n",
      "31347  2017                     Level 4                LL122   \n",
      "\n",
      "                     Industry_name_NZSIOC               Units Variable_code  \\\n",
      "40287           Financial Asset Investing  Dollars (millions)           H26   \n",
      "40219                             Finance  Dollars (millions)           H26   \n",
      "22078  Non-Residential Property Operation  Dollars (millions)           H28   \n",
      "31348  Non-Residential Property Operation  Dollars (millions)           H28   \n",
      "31347  Non-Residential Property Operation  Dollars (millions)           H27   \n",
      "\n",
      "                   Variable_name   Variable_category Value  \\\n",
      "40287      Fixed tangible assets  Financial position     S   \n",
      "40219      Fixed tangible assets  Financial position     S   \n",
      "22078  Disposals of fixed assets  Financial position     S   \n",
      "31348  Disposals of fixed assets  Financial position     S   \n",
      "31347  Additions to fixed assets  Financial position     S   \n",
      "\n",
      "                           Industry_code_ANZSIC06  \n",
      "40287                         ANZSIC06 group K624  \n",
      "40219  ANZSIC06 groups K621, K622, K623, and K624  \n",
      "22078                      ANZSIC06 class L671200  \n",
      "31348                      ANZSIC06 class L671200  \n",
      "31347                      ANZSIC06 class L671200  \n"
     ]
    }
   ],
   "source": [
    "#Sorting DataFrame Values:\n",
    "data_sorted = data.sort_values(by='Value', ascending=False)\n",
    "print(data_sorted.head(5))\n"
   ]
  },
  {
   "cell_type": "code",
   "execution_count": 30,
   "id": "057c9c0a-38fd-4824-8b62-23f2507dc419",
   "metadata": {},
   "outputs": [
    {
     "data": {
      "text/plain": [
       "RangeIndex(start=0, stop=50985, step=1)"
      ]
     },
     "execution_count": 30,
     "metadata": {},
     "output_type": "execute_result"
    }
   ],
   "source": [
    "#How is the Dataset Indexed?\n",
    "data.index\n"
   ]
  },
  {
   "cell_type": "code",
   "execution_count": 31,
   "id": "a13a40a2-d3b2-4e98-bf75-4e849a8e30bd",
   "metadata": {},
   "outputs": [
    {
     "data": {
      "text/plain": [
       "Year                           0\n",
       "Industry_aggregation_NZSIOC    0\n",
       "Industry_code_NZSIOC           0\n",
       "Industry_name_NZSIOC           0\n",
       "Units                          0\n",
       "Variable_code                  0\n",
       "Variable_name                  0\n",
       "Variable_category              0\n",
       "Value                          0\n",
       "Industry_code_ANZSIC06         0\n",
       "dtype: int64"
      ]
     },
     "execution_count": 31,
     "metadata": {},
     "output_type": "execute_result"
    }
   ],
   "source": [
    "#Missing Data Handling:\n",
    "data.isnull().sum()\n"
   ]
  },
  {
   "cell_type": "code",
   "execution_count": null,
   "id": "91ba266b-0f88-4dda-81ad-1261d05a3513",
   "metadata": {},
   "outputs": [],
   "source": []
  }
 ],
 "metadata": {
  "kernelspec": {
   "display_name": "Python 3 (ipykernel)",
   "language": "python",
   "name": "python3"
  },
  "language_info": {
   "codemirror_mode": {
    "name": "ipython",
    "version": 3
   },
   "file_extension": ".py",
   "mimetype": "text/x-python",
   "name": "python",
   "nbconvert_exporter": "python",
   "pygments_lexer": "ipython3",
   "version": "3.10.6"
  }
 },
 "nbformat": 4,
 "nbformat_minor": 5
}
